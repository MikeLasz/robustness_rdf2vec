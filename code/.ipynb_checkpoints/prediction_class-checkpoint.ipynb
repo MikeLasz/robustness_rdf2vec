{
 "cells": [
  {
   "cell_type": "code",
   "execution_count": 39,
   "metadata": {},
   "outputs": [],
   "source": [
    "from pyrdf2vec.graphs import KG\n",
    "import rdflib\n",
    "import random \n",
    "import numpy as np\n",
    "import matplotlib.pyplot as plt\n",
    "import pandas as pd\n",
    "import seaborn as sns\n",
    "\n",
    "from sklearn.model_selection import train_test_split\n",
    "from sklearn.preprocessing import StandardScaler\n",
    "from sklearn import neighbors\n",
    "from sklearn.linear_model import LogisticRegression\n",
    "from collections import Counter"
   ]
  },
  {
   "cell_type": "markdown",
   "metadata": {},
   "source": [
    "# 1. Get the entitites and corresponding classes"
   ]
  },
  {
   "cell_type": "code",
   "execution_count": 3,
   "metadata": {},
   "outputs": [],
   "source": [
    "data = \"aifb\"\n",
    "if data == \"aifb\":\n",
    "    kg = KG(location=\"../data/aifbfixed_complete.n3\", file_type=\"n3\")\n",
    "elif data == \"bgs\":\n",
    "    kg = KG(location=\"../data/bgs.nt\", file_type=\"nt\")\n",
    "elif data== \"mutag\":\n",
    "    kg = KG(location=\"../data/mutag.xml\", file_type=\"xml\")\n",
    "\n",
    "g = rdflib.Graph()\n",
    "if data == \"aifb\":\n",
    "    g.parse(\"../data/aifbfixed_complete.n3\", format=\"n3\")\n",
    "elif data == \"bgs\":\n",
    "    g.parse(\"../data/bgs.nt\", format=\"nt\")\n",
    "elif data == \"mutag\":\n",
    "    g.parse(\"../data/mutag.xml\", format=\"xml\")\n",
    "\n",
    "q = g.query(\"\"\"SELECT ?entity ?type\n",
    "            WHERE {\n",
    "              ?entity rdf:type ?type.\n",
    "            }\"\"\")\n",
    "entities = []\n",
    "classes = []\n",
    "for row in q:\n",
    "    entities.append(row[0])\n",
    "    classes.append(row[1])"
   ]
  },
  {
   "cell_type": "code",
   "execution_count": 4,
   "metadata": {},
   "outputs": [
    {
     "data": {
      "text/plain": [
       "{rdflib.term.URIRef('http://swrc.ontoware.org/ontology#Article'),\n",
       " rdflib.term.URIRef('http://swrc.ontoware.org/ontology#AssistantProfessor'),\n",
       " rdflib.term.URIRef('http://swrc.ontoware.org/ontology#Book'),\n",
       " rdflib.term.URIRef('http://swrc.ontoware.org/ontology#FullProfessor'),\n",
       " rdflib.term.URIRef('http://swrc.ontoware.org/ontology#Graduate'),\n",
       " rdflib.term.URIRef('http://swrc.ontoware.org/ontology#InCollection'),\n",
       " rdflib.term.URIRef('http://swrc.ontoware.org/ontology#InProceedings'),\n",
       " rdflib.term.URIRef('http://swrc.ontoware.org/ontology#Lecturer'),\n",
       " rdflib.term.URIRef('http://swrc.ontoware.org/ontology#Manager'),\n",
       " rdflib.term.URIRef('http://swrc.ontoware.org/ontology#Misc'),\n",
       " rdflib.term.URIRef('http://swrc.ontoware.org/ontology#Organization'),\n",
       " rdflib.term.URIRef('http://swrc.ontoware.org/ontology#Person'),\n",
       " rdflib.term.URIRef('http://swrc.ontoware.org/ontology#PhDStudent'),\n",
       " rdflib.term.URIRef('http://swrc.ontoware.org/ontology#Proceedings'),\n",
       " rdflib.term.URIRef('http://swrc.ontoware.org/ontology#Project'),\n",
       " rdflib.term.URIRef('http://swrc.ontoware.org/ontology#Publication'),\n",
       " rdflib.term.URIRef('http://swrc.ontoware.org/ontology#ResearchGroup'),\n",
       " rdflib.term.URIRef('http://swrc.ontoware.org/ontology#ResearchTopic'),\n",
       " rdflib.term.URIRef('http://swrc.ontoware.org/ontology#TechnicalReport'),\n",
       " rdflib.term.URIRef('http://swrc.ontoware.org/ontology#TechnicalStaff'),\n",
       " rdflib.term.URIRef('http://swrc.ontoware.org/ontology#Undergraduate'),\n",
       " rdflib.term.URIRef('http://www.w3.org/2002/07/owl#Class'),\n",
       " rdflib.term.URIRef('http://www.w3.org/2002/07/owl#Datatype'),\n",
       " rdflib.term.URIRef('http://www.w3.org/2002/07/owl#DatatypeProperty'),\n",
       " rdflib.term.URIRef('http://www.w3.org/2002/07/owl#ObjectProperty'),\n",
       " rdflib.term.URIRef('http://www.w3.org/2002/07/owl#Ontology'),\n",
       " rdflib.term.URIRef('http://www.w3.org/2002/07/owl#Restriction')}"
      ]
     },
     "execution_count": 4,
     "metadata": {},
     "output_type": "execute_result"
    }
   ],
   "source": [
    "set(classes)"
   ]
  },
  {
   "cell_type": "markdown",
   "metadata": {},
   "source": [
    "# 2. Filtering"
   ]
  },
  {
   "cell_type": "code",
   "execution_count": 5,
   "metadata": {},
   "outputs": [],
   "source": [
    "filtered_index = []\n",
    "index = 0\n",
    "for e in entities:\n",
    "    if e in kg._entities:\n",
    "        filtered_index.append(index)\n",
    "    index += 1\n",
    "    \n",
    "entities_filt = [entities[i] for i in filtered_index]\n",
    "classes_filt = [classes[i] for i in filtered_index]\n",
    "\n",
    "entities = entities_filt"
   ]
  },
  {
   "cell_type": "markdown",
   "metadata": {},
   "source": [
    "Each class is a string like \"http://swrc.ontoware.org/ontology#TechnicalStaff\". We do some preprocessing to obtain a more natural presentation (by deleting the leading characters)."
   ]
  },
  {
   "cell_type": "code",
   "execution_count": 6,
   "metadata": {},
   "outputs": [],
   "source": [
    "def get_classes(data):\n",
    "    classes = []\n",
    "    for class_type in classes_filt:\n",
    "        if data == \"mutag\":\n",
    "            class_type = class_type.lstrip(\"http://dl-learner.org/carcinogenesis#\")\n",
    "            class_type = class_type.lstrip(\"www.w3.org/2002/07/owl#\")\n",
    "        else:\n",
    "            class_type = class_type.lstrip(\"http://swrc.ontoware.org/ontology#\")\n",
    "            class_type = class_type.lstrip(\"3.org/2002/07/owl#\")\n",
    "        classes.append(class_type)\n",
    "    return np.array(classes)"
   ]
  },
  {
   "cell_type": "markdown",
   "metadata": {},
   "source": [
    "Finally, each entity is one of the following set of classes:"
   ]
  },
  {
   "cell_type": "code",
   "execution_count": 7,
   "metadata": {},
   "outputs": [
    {
     "name": "stdout",
     "output_type": "stream",
     "text": [
      "Counter({'Publication': 1222, 'Person': 1045, 'InProceedings': 687, 'TechnicalReport': 169, 'Article': 161, 'ResearchTopic': 146, 'InCollection': 87, 'Project': 78, 'PhDStudent': 65, 'Class': 55, 'Misc': 51, 'Proceedings': 49, 'ObjectProperty': 42, 'DatatypeProperty': 31, 'Organization': 28, 'Book': 23, 'Lecturer': 6, 'Undergraduate': 6, 'FullProfessor': 5, 'ResearchGroup': 5, 'TechnicalStaff': 3, 'AssistantProfessor': 3, 'Graduate': 2, 'Ontology': 1, 'Datatype': 1, 'Manager': 1})\n"
     ]
    }
   ],
   "source": [
    "print(Counter(get_classes(data)))"
   ]
  },
  {
   "cell_type": "code",
   "execution_count": 8,
   "metadata": {},
   "outputs": [],
   "source": [
    "def select_classes(data):\n",
    "    if data == \"aifb\":\n",
    "        return([\"Publication\", \"Person\", \"InProceedings\"])\n",
    "    elif data == \"mutag\":\n",
    "        return([\"Hydrogen-3\", \"Bond-1\", \"Bond-7\", \"Carbon-22\", \"Carbon-10\"])\n",
    "    \n",
    "def select_data(X, data):\n",
    "    classes = get_classes(data)\n",
    "    selected_classes = select_classes(data) # get the most prominent classes\n",
    "    indexes = []\n",
    "    for j in range(len(classes)):\n",
    "        if classes[j] in selected_classes:\n",
    "            indexes.append(j)\n",
    "    X = X[indexes]\n",
    "    y = classes[indexes]\n",
    "    return(X, y)"
   ]
  },
  {
   "cell_type": "markdown",
   "metadata": {},
   "source": [
    "# 3. Import the embeddings"
   ]
  },
  {
   "cell_type": "code",
   "execution_count": 200,
   "metadata": {},
   "outputs": [],
   "source": [
    "nlp_model = \"cbow\" # skip-gram or cbow\n",
    "num_embeddings = 10\n",
    "embeddings = []\n",
    "\n",
    "dim_red = \"tsne2d\" # \"pca2d\", \"pca3d\", \"tsne2d\", or \"tsne3d\"\n",
    "\n",
    "# read embeddings:\n",
    "for iter in range(num_embeddings):\n",
    "    embeddings.append(np.load(\"embeddings/\" + data + \"/\" + nlp_model + \"/\" + dim_red + \"/embedding\" + str(iter) + \".npy\"))"
   ]
  },
  {
   "cell_type": "markdown",
   "metadata": {},
   "source": [
    "# 4. k-NN classifier"
   ]
  },
  {
   "cell_type": "code",
   "execution_count": 201,
   "metadata": {},
   "outputs": [],
   "source": [
    "X, y = select_data(embeddings[0], data)"
   ]
  },
  {
   "cell_type": "code",
   "execution_count": 202,
   "metadata": {},
   "outputs": [
    {
     "name": "stdout",
     "output_type": "stream",
     "text": [
      "Carbon-10\n",
      "1162\n",
      "Hydrogen-3\n",
      "3632\n",
      "Bond-1\n",
      "6781\n",
      "Carbon-22\n",
      "1841\n",
      "Bond-7\n",
      "2067\n"
     ]
    }
   ],
   "source": [
    "for class_type in set(y):\n",
    "    print(class_type)\n",
    "    print(len(X[np.where(y==class_type)]))"
   ]
  },
  {
   "cell_type": "markdown",
   "metadata": {},
   "source": [
    "Note: Most of these types are eiter a Person, or a Publication with like 1/3 vs 2/3 proportion."
   ]
  },
  {
   "cell_type": "code",
   "execution_count": 203,
   "metadata": {},
   "outputs": [],
   "source": [
    "X_cp = X.copy()\n",
    "scaler = StandardScaler()\n",
    "X_cp_scaled = scaler.fit_transform(X_cp)"
   ]
  },
  {
   "cell_type": "code",
   "execution_count": 204,
   "metadata": {},
   "outputs": [
    {
     "data": {
      "image/png": "[encoded data removed]",
      "text/plain": [
       "<Figure size 432x288 with 1 Axes>"
      ]
     },
     "metadata": {
      "needs_background": "light"
     },
     "output_type": "display_data"
    }
   ],
   "source": [
    "fig, ax = plt.subplots()\n",
    "#color = \n",
    "for class_type in set(y):\n",
    "    index = np.where(y==class_type)\n",
    "    ax.scatter(X_cp_scaled[index, 0], X_cp_scaled[index,1], label=class_type,\n",
    "               alpha=0.2, edgecolors='none')\n",
    "ax.legend()\n",
    "ax.set_ylim([-3, 3])\n",
    "ax.set_xlim([-3,3])\n",
    "plt.show()"
   ]
  },
  {
   "cell_type": "code",
   "execution_count": 205,
   "metadata": {},
   "outputs": [],
   "source": [
    "X_train, X_test, y_train, y_test = train_test_split(X, y, random_state=42)"
   ]
  },
  {
   "cell_type": "code",
   "execution_count": 206,
   "metadata": {},
   "outputs": [
    {
     "data": {
      "text/plain": [
       "KNeighborsClassifier(n_neighbors=20)"
      ]
     },
     "execution_count": 206,
     "metadata": {},
     "output_type": "execute_result"
    }
   ],
   "source": [
    "scaler = StandardScaler()\n",
    "X_train = scaler.fit_transform(X_train)\n",
    "\n",
    "n_neighbors = 20\n",
    "clf = neighbors.KNeighborsClassifier(n_neighbors)\n",
    "clf.fit(X_train, y_train)"
   ]
  },
  {
   "cell_type": "code",
   "execution_count": 207,
   "metadata": {},
   "outputs": [],
   "source": [
    "scaler = StandardScaler()\n",
    "X_test = scaler.fit_transform(X_test)\n",
    "y_pred = clf.predict(X_test)"
   ]
  },
  {
   "cell_type": "code",
   "execution_count": 208,
   "metadata": {},
   "outputs": [
    {
     "data": {
      "text/plain": [
       "'The accuracy is now: 0.41 %'"
      ]
     },
     "execution_count": 208,
     "metadata": {},
     "output_type": "execute_result"
    }
   ],
   "source": [
    "f'The accuracy is now: {np.round(sum(y_pred == y_test)/len(y_pred), 2)} %'"
   ]
  },
  {
   "cell_type": "code",
   "execution_count": 209,
   "metadata": {},
   "outputs": [],
   "source": [
    "def compare_pred(data, dim_red, nlp_model):\n",
    "    num_embeddings = 10\n",
    "    embeddings = []\n",
    "\n",
    "    # read embeddings:\n",
    "    if dim_red==\"\":\n",
    "        for iter in range(num_embeddings):\n",
    "            embeddings.append(np.load(\"embeddings/\" + data + \"/\" + nlp_model + \"/embedding\" + str(iter) + \".npy\"))\n",
    "    else:\n",
    "        for iter in range(num_embeddings):\n",
    "            embeddings.append(np.load(\"embeddings/\" + data + \"/\" + nlp_model + \"/\" + dim_red + \"/embedding\" + str(iter) + \".npy\"))\n",
    "            \n",
    "    # k-NN for each embedding    \n",
    "    for j in range(num_embeddings):   \n",
    "        X, y = select_data(embeddings[j], data)\n",
    "\n",
    "        X_train, X_test, y_train, y_test = train_test_split(X, y, random_state=42, stratify=y)\n",
    "        scaler = StandardScaler()\n",
    "        X_train = scaler.fit_transform(X_train)\n",
    "        if j==0:\n",
    "            df_y = pd.DataFrame(data=y_test, columns=[\"truth\"])\n",
    "        \n",
    "        \n",
    "        n_neighbors = 20\n",
    "        clf = neighbors.KNeighborsClassifier(n_neighbors)\n",
    "        clf.fit(X_train, y_train)\n",
    "        \n",
    "        scaler = StandardScaler()\n",
    "        X_train = scaler.fit_transform(X_train)\n",
    "        \n",
    "        y_pred = clf.predict(X_test)\n",
    "        # concatenate the columns\n",
    "        df_y = pd.concat([df_y, pd.DataFrame(data=y_pred, columns=[\"Embedding\" + str(j)])], axis=1)\n",
    "\n",
    "    # calculate the pairwise accuracy\n",
    "    pw_accuracy = np.zeros((10,10))\n",
    "    for j in range(num_embeddings):\n",
    "        for i in range(num_embeddings):\n",
    "            acc = sum( df_y[\"Embedding\" + str(j)] == df_y[\"Embedding\" + str(i)]) / len(df_y)  \n",
    "            pw_accuracy[i, j] = np.round(acc, 2)\n",
    "    pw_results = pw_accuracy[np.triu_indices(num_embeddings, k=1)]\n",
    "    print(f'Results for the {data} dataset using RDF2Vec via {nlp_model} and the dimension reduction technique {dim_red}.')\n",
    "    print(f'The average pairwise accuracy is {np.round(np.mean(pw_results), 2)} with a variance between pairwise accuracies of {np.round(np.var(pw_results), 2)}.')       "
   ]
  },
  {
   "cell_type": "markdown",
   "metadata": {},
   "source": [
    "## Results cbow:"
   ]
  },
  {
   "cell_type": "code",
   "execution_count": 210,
   "metadata": {},
   "outputs": [
    {
     "name": "stdout",
     "output_type": "stream",
     "text": [
      "Results for the mutag dataset using RDF2Vec via cbow and the dimension reduction technique pca2d.\n",
      "The average pairwise accuracy is 0.77 with a variance between pairwise accuracies of 0.0.\n"
     ]
    }
   ],
   "source": [
    "compare_pred(data, \"pca2d\", \"cbow\")"
   ]
  },
  {
   "cell_type": "code",
   "execution_count": 211,
   "metadata": {},
   "outputs": [
    {
     "name": "stdout",
     "output_type": "stream",
     "text": [
      "Results for the mutag dataset using RDF2Vec via cbow and the dimension reduction technique pca3d.\n",
      "The average pairwise accuracy is 0.81 with a variance between pairwise accuracies of 0.0.\n"
     ]
    }
   ],
   "source": [
    "compare_pred(data, \"pca3d\", \"cbow\")"
   ]
  },
  {
   "cell_type": "code",
   "execution_count": 212,
   "metadata": {},
   "outputs": [
    {
     "name": "stdout",
     "output_type": "stream",
     "text": [
      "Results for the mutag dataset using RDF2Vec via cbow and the dimension reduction technique tsne2d.\n",
      "The average pairwise accuracy is 0.83 with a variance between pairwise accuracies of 0.0.\n"
     ]
    }
   ],
   "source": [
    "compare_pred(data, \"tsne2d\", \"cbow\")"
   ]
  },
  {
   "cell_type": "code",
   "execution_count": 213,
   "metadata": {},
   "outputs": [
    {
     "name": "stdout",
     "output_type": "stream",
     "text": [
      "Results for the mutag dataset using RDF2Vec via cbow and the dimension reduction technique tsne3d.\n",
      "The average pairwise accuracy is 0.8 with a variance between pairwise accuracies of 0.0.\n"
     ]
    }
   ],
   "source": [
    "compare_pred(data, \"tsne3d\", \"cbow\")"
   ]
  },
  {
   "cell_type": "code",
   "execution_count": 214,
   "metadata": {},
   "outputs": [
    {
     "name": "stdout",
     "output_type": "stream",
     "text": [
      "Results for the mutag dataset using RDF2Vec via cbow and the dimension reduction technique .\n",
      "The average pairwise accuracy is 0.88 with a variance between pairwise accuracies of 0.01.\n"
     ]
    }
   ],
   "source": [
    "# without dimension reduction: \n",
    "compare_pred(data, \"\", \"cbow\")"
   ]
  },
  {
   "cell_type": "markdown",
   "metadata": {},
   "source": [
    "## Results skip-gram:"
   ]
  },
  {
   "cell_type": "code",
   "execution_count": 188,
   "metadata": {},
   "outputs": [
    {
     "name": "stdout",
     "output_type": "stream",
     "text": [
      "Results for the aifb dataset using RDF2Vec via skip-gram and a the dimension reduction technique pca2d.\n",
      "The average pairwise accuracy is 0.46 with a variance of 0.0.\n"
     ]
    }
   ],
   "source": [
    "compare_pred(data, \"pca2d\", \"skip-gram\")"
   ]
  },
  {
   "cell_type": "code",
   "execution_count": 189,
   "metadata": {},
   "outputs": [
    {
     "name": "stdout",
     "output_type": "stream",
     "text": [
      "Results for the aifb dataset using RDF2Vec via skip-gram and a the dimension reduction technique pca3d.\n",
      "The average pairwise accuracy is 0.5 with a variance of 0.0.\n"
     ]
    }
   ],
   "source": [
    "compare_pred(data, \"pca3d\", \"skip-gram\")"
   ]
  },
  {
   "cell_type": "code",
   "execution_count": 190,
   "metadata": {},
   "outputs": [
    {
     "name": "stdout",
     "output_type": "stream",
     "text": [
      "Results for the aifb dataset using RDF2Vec via skip-gram and a the dimension reduction technique tsne2d.\n",
      "The average pairwise accuracy is 0.5 with a variance of 0.01.\n"
     ]
    }
   ],
   "source": [
    "compare_pred(data, \"tsne2d\", \"skip-gram\")"
   ]
  },
  {
   "cell_type": "code",
   "execution_count": 191,
   "metadata": {},
   "outputs": [
    {
     "name": "stdout",
     "output_type": "stream",
     "text": [
      "Results for the aifb dataset using RDF2Vec via skip-gram and a the dimension reduction technique tsne3d.\n",
      "The average pairwise accuracy is 0.53 with a variance of 0.0.\n"
     ]
    }
   ],
   "source": [
    "compare_pred(data, \"tsne3d\", \"skip-gram\")"
   ]
  },
  {
   "cell_type": "markdown",
   "metadata": {},
   "source": [
    "## Summarize the results"
   ]
  },
  {
   "cell_type": "code",
   "execution_count": 40,
   "metadata": {},
   "outputs": [],
   "source": [
    "def summary(data):\n",
    "    num_embeddings = 10\n",
    "    dim_red_methods = [\"pca2d\", \"pca3d\", \"tsne2d\", \"tsne3d\"]\n",
    "    nlp_models = [\"sg\", \"cbow\"]\n",
    "\n",
    "    counter = 0\n",
    "    results = np.zeros(2)\n",
    "    for nlp_model in (\"cbow\", \"skip-gram\"):\n",
    "        for dim_red in (\"pca2d\", \"pca3d\", \"tsne2d\", \"tsne3d\"):\n",
    "            embeddings = []\n",
    "            # read embeddings:\n",
    "            if dim_red==\"\":\n",
    "                for iter in range(num_embeddings):\n",
    "                    embeddings.append(np.load(\"embeddings/\" + data + \"/\" + nlp_model + \"/embedding\" + str(iter) + \".npy\"))\n",
    "            else:\n",
    "                for iter in range(num_embeddings):\n",
    "                    embeddings.append(np.load(\"embeddings/\" + data + \"/\" + nlp_model + \"/\" + dim_red + \"/embedding\" + str(iter) + \".npy\"))\n",
    "\n",
    "            # k-NN for each embedding    \n",
    "            for j in range(num_embeddings):   \n",
    "                X, y = select_data(embeddings[j], data)\n",
    "\n",
    "                X_train, X_test, y_train, y_test = train_test_split(X, y, random_state=42, stratify=y)\n",
    "                scaler = StandardScaler()\n",
    "                X_train = scaler.fit_transform(X_train)\n",
    "                if j==0:\n",
    "                    df_y = pd.DataFrame(data=y_test, columns=[\"truth\"])\n",
    "\n",
    "\n",
    "                n_neighbors = 20\n",
    "                clf = neighbors.KNeighborsClassifier(n_neighbors)\n",
    "                clf.fit(X_train, y_train)\n",
    "\n",
    "                scaler = StandardScaler()\n",
    "                X_train = scaler.fit_transform(X_train)\n",
    "\n",
    "                y_pred = clf.predict(X_test)\n",
    "                # concatenate the columns\n",
    "                df_y = pd.concat([df_y, pd.DataFrame(data=y_pred, columns=[\"Embedding\" + str(j)])], axis=1)\n",
    "\n",
    "            # calculate the pairwise accuracy\n",
    "            accuracy = np.zeros(len(y_test))\n",
    "            y_same = np.zeros(len(y_test))\n",
    "            for i in range(num_embeddings - 1):\n",
    "                for j in range(i + 1, num_embeddings):\n",
    "                    y_same += (df_y[\"Embedding\" + str(i)] == df_y[\"Embedding\" + str(j)])\n",
    "                    \n",
    "            if counter==0:\n",
    "                results = pd.DataFrame({\"accuracy\":y_same/(num_embeddings * (num_embeddings - 1)/2), \"method\":np.repeat(nlp_model, len(y_same)), \"dim_red\": np.repeat(dim_red, len(y_same))}, columns=(\"accuracy\", \"method\", \"dim_red\") )\n",
    "            else:\n",
    "                results = results.append(pd.DataFrame({\"accuracy\":y_same/(num_embeddings * (num_embeddings - 1)/2), \"method\":np.repeat(nlp_model, len(y_same)), \"dim_red\": np.repeat(dim_red, len(y_same))}, columns=(\"accuracy\", \"method\", \"dim_red\") ))\n",
    "            counter += 1\n",
    "            \n",
    "    return(results)"
   ]
  },
  {
   "cell_type": "code",
   "execution_count": 57,
   "metadata": {},
   "outputs": [
    {
     "data": {
      "image/png": "[encoded data removed]",
      "text/plain": [
       "<Figure size 720x504 with 1 Axes>"
      ]
     },
     "metadata": {},
     "output_type": "display_data"
    }
   ],
   "source": [
    "results = summary(data)\n",
    "\n",
    "fig, ax = plt.subplots()\n",
    "sns.set_style(\"white\")\n",
    "color = sns.color_palette(\"tab10\")\n",
    "ax = sns.boxplot(x=\"dim_red\", y=\"accuracy\", hue=\"method\", data=results, palette=\"tab10\")\n",
    "#ax.set_title(\"Pairwise similarities: \" + data, fonzsize=30)\n",
    "ax.set_xlabel(\"Dimension Reduction\", fontsize=20, weight=\"bold\")\n",
    "ax.set_ylabel(\"% same Prediction\", fontsize=20, weight=\"bold\")\n",
    "fig.suptitle(\"Similar Predictions: \" + data, fontsize=30, weight=\"bold\")\n",
    "plt.legend(loc='upper left')\n",
    "fig.savefig(\"embeddings/\" + data + \"/boxplot_prediction.pdf\")\n",
    "plt.show()"
   ]
  },
  {
   "cell_type": "code",
   "execution_count": null,
   "metadata": {},
   "outputs": [],
   "source": [
    "for j in range(num_embeddings):\n",
    "                for i in range(num_embeddings):\n",
    "                    acc = sum( df_y[\"Embedding\" + str(j)] == df_y[\"Embedding\" + str(i)]) / len(df_y)  \n",
    "                    pw_accuracy[i, j] = np.round(acc, 2)\n",
    "            pw_results = pw_accuracy[np.triu_indices(num_embeddings, k=1)]\n",
    "            \n",
    "            if i==0:\n",
    "                results = pd.DataFrame({\"accuracy\":dist, \"method\":np.repeat(nlp_model, len_emb), \"dim_red\": np.repeat(dim_red, len_emb)}, columns=(\"distance\", \"method\", \"dim_red\") )\n",
    "            else:\n",
    "                results = results.append(pd.DataFrame({\"distance\":dist, \"method\":np.repeat(nlp_model, len_emb), \"dim_red\": np.repeat(dim_red, len_emb)}, columns=(\"distance\", \"method\", \"dim_red\") ))\n",
    "            i += 1\n",
    "            \n",
    "            print(f'Results for the {data} dataset using RDF2Vec via {nlp_model} and the dimension reduction technique {dim_red}.')\n",
    "            print(f'The average pairwise accuracy is {np.round(np.mean(pw_results), 2)} with a variance between pairwise accuracies of {np.round(np.var(pw_results), 2)}.')       "
   ]
  },
  {
   "cell_type": "markdown",
   "metadata": {},
   "source": [
    "# 2. Logistic Regression without Dimension Reduction"
   ]
  },
  {
   "cell_type": "code",
   "execution_count": 7,
   "metadata": {},
   "outputs": [],
   "source": [
    "data = \"mutag\"\n",
    "nlp_model = \"cbow\" # skip-gram or cbow\n",
    "num_embeddings = 10\n",
    "embeddings = []\n",
    "\n",
    "\n",
    "# read embeddings:\n",
    "for iter in range(num_embeddings):\n",
    "    embeddings.append(np.load(\"embeddings/\" + data + \"/embedding\" + str(iter) + \".npy\"))"
   ]
  },
  {
   "cell_type": "code",
   "execution_count": 49,
   "metadata": {},
   "outputs": [
    {
     "data": {
      "image/png": "[encoded data removed]",
      "text/plain": [
       "<Figure size 432x288 with 1 Axes>"
      ]
     },
     "metadata": {
      "needs_background": "light"
     },
     "output_type": "display_data"
    }
   ],
   "source": [
    "classes = []\n",
    "for class_type in classes_filt:\n",
    "        #class_type = class_type.lstrip(\"http://swrc.ontoware.org/ontology#\")\n",
    "        #class_type = class_type.lstrip(\"3.org/2002/07/owl#\")\n",
    "    class_type = class_type.lstrip(\"http://dl-learner.org/carcinogenesis#\")\n",
    "    class_type = class_type.lstrip(\"www.w3.org/2002/07/owl#\")\n",
    "    classes.append(class_type)\n",
    "y = summarize_y(np.array(classes))\n",
    "ax = plt.hist(y)\n",
    "plt.show()"
   ]
  },
  {
   "cell_type": "code",
   "execution_count": 102,
   "metadata": {},
   "outputs": [],
   "source": [
    "from sklearn.linear_model import LogisticRegressionCV\n",
    "from sklearn.tree import DecisionTreeClassifier\n",
    "from sklearn.neural_network import MLPClassifier\n",
    "from sklearn.svm import LinearSVC\n",
    "\n",
    "def compare_pred_nodimred(classifier=LogisticRegression):\n",
    "    data = \"mutag\"\n",
    "    num_embeddings = 3\n",
    "    embeddings = []\n",
    "\n",
    "    for iter in range(num_embeddings):\n",
    "        embeddings.append(np.load(\"embeddings/\" + data + \"/embedding\" + str(iter) + \".npy\"))\n",
    "    \n",
    "    # some classifier for each embedding\n",
    "    for j in range(num_embeddings):   \n",
    "        X, y = select_data(embeddings[j])\n",
    "\n",
    "        X_train, X_test, y_train, y_test = train_test_split(X, y, random_state=42)\n",
    "        scaler = StandardScaler()\n",
    "        X_train = scaler.fit_transform(X_train)\n",
    "        if j==0:\n",
    "            df_y = pd.DataFrame(data=y_test, columns=[\"truth\"])\n",
    "        \n",
    "        \n",
    "        \n",
    "        #clf = DecisionTreeClassifier()\n",
    "        #clf = LogisticRegression(C=0.5)\n",
    "        #clf = MLPClassifier()\n",
    "        clf = LinearSVC()\n",
    "        clf.fit(X_train, y_train)\n",
    "        \n",
    "        scaler = StandardScaler()\n",
    "        X_test = scaler.fit_transform(X_test)\n",
    "        \n",
    "        y_pred = clf.predict(X_test)\n",
    "        # concatenate the columns\n",
    "        df_y = pd.concat([df_y, pd.DataFrame(data=y_pred, columns=[\"Embedding\" + str(j)])], axis=1)\n",
    "        \n",
    "        print(clf.predict(X_test[0:10]))\n",
    "    # calculate the pairwise accuracy\n",
    "    print(y_test[0:10])\n",
    "    pw_accuracy = np.zeros((10,10))\n",
    "    for j in range(num_embeddings):\n",
    "        for i in range(num_embeddings):\n",
    "            acc = sum( df_y[\"Embedding\" + str(j)] == df_y[\"Embedding\" + str(i)]) / len(df_y)  \n",
    "            pw_accuracy[i, j] = np.round(acc, 2)\n",
    "    pw_results = pw_accuracy[np.triu_indices(num_embeddings, k=1)]\n",
    "    print(f'Results for the {data} dataset using RDF2Vec using {classifier} on the original 100-dim. data.')\n",
    "    print(f'The average pairwise accuracy is {np.round(np.mean(pw_results), 2)} with a variance of {np.round(np.var(pw_results), 2)}.')"
   ]
  },
  {
   "cell_type": "code",
   "execution_count": 103,
   "metadata": {},
   "outputs": [
    {
     "name": "stderr",
     "output_type": "stream",
     "text": [
      "/home/mike/anaconda3/lib/python3.8/site-packages/sklearn/svm/_base.py:976: ConvergenceWarning: Liblinear failed to converge, increase the number of iterations.\n",
      "  warnings.warn(\"Liblinear failed to converge, increase \"\n"
     ]
    },
    {
     "name": "stdout",
     "output_type": "stream",
     "text": [
      "['Bond-1' 'Bond-1' 'Bond-1' 'Bond-1' 'Bond-1' 'Bond-1' 'Bond-1' 'Bond-1'\n",
      " 'Bond-1' 'Bond-1']\n"
     ]
    },
    {
     "name": "stderr",
     "output_type": "stream",
     "text": [
      "/home/mike/anaconda3/lib/python3.8/site-packages/sklearn/svm/_base.py:976: ConvergenceWarning: Liblinear failed to converge, increase the number of iterations.\n",
      "  warnings.warn(\"Liblinear failed to converge, increase \"\n"
     ]
    },
    {
     "name": "stdout",
     "output_type": "stream",
     "text": [
      "['Bond-1' 'Bond-1' 'Bond-1' 'Hydrogen-3' 'Bond-1' 'Bond-1' 'Bond-1'\n",
      " 'Bond-1' 'Bond-1' 'Bond-1']\n",
      "['Bond-1' 'Bond-1' 'Bond-1' 'Bond-1' 'Bond-1' 'Bond-1' 'Bond-1' 'Bond-1'\n",
      " 'Bond-1' 'Bond-1']\n",
      "['Bond-1' 'Carbon-22' 'Carbon-22' 'Bond-1' 'Bond-7' 'Bond-7' 'Bond-1'\n",
      " 'Bond-7' 'Bond-7' 'Bond-1']\n",
      "Results for the mutag dataset using RDF2Vec using <class 'sklearn.linear_model._logistic.LogisticRegression'> on the original 100-dim. data.\n",
      "The average pairwise accuracy is 0.95 with a variance of 0.0.\n"
     ]
    },
    {
     "name": "stderr",
     "output_type": "stream",
     "text": [
      "/home/mike/anaconda3/lib/python3.8/site-packages/sklearn/svm/_base.py:976: ConvergenceWarning: Liblinear failed to converge, increase the number of iterations.\n",
      "  warnings.warn(\"Liblinear failed to converge, increase \"\n"
     ]
    }
   ],
   "source": [
    "compare_pred_nodimred()"
   ]
  }
 ],
 "metadata": {
  "kernelspec": {
   "display_name": "Python 3",
   "language": "python",
   "name": "python3"
  },
  "language_info": {
   "codemirror_mode": {
    "name": "ipython",
    "version": 3
   },
   "file_extension": ".py",
   "mimetype": "text/x-python",
   "name": "python",
   "nbconvert_exporter": "python",
   "pygments_lexer": "ipython3",
   "version": "3.8.5"
  }
 },
 "nbformat": 4,
 "nbformat_minor": 4
}
