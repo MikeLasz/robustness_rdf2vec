{
 "cells": [
  {
   "cell_type": "code",
   "execution_count": 1,
   "metadata": {},
   "outputs": [],
   "source": [
    "from pyrdf2vec.graphs import KG\n",
    "import rdflib\n",
    "import random \n",
    "import numpy as np\n",
    "import matplotlib.pyplot as plt\n",
    "import pandas as pd\n",
    "import seaborn as sns\n",
    "\n",
    "from sklearn.model_selection import train_test_split\n",
    "from sklearn.preprocessing import StandardScaler\n",
    "from sklearn import neighbors\n",
    "from sklearn.linear_model import LogisticRegression\n",
    "from collections import Counter"
   ]
  },
  {
   "cell_type": "markdown",
   "metadata": {},
   "source": [
    "In this notebook, we are investigating the robustness of RDF2Vec based on the prediction performance of the resulting embeddings. That is, we want to use the embeddings to predict an entity class. The underlying question in this document is:\n",
    "\n",
    "Do the different embeddings lead to the same prediction?\n",
    "\n",
    "To be precise, we use the embeddings to train a k-NN classifier for the type of the entity."
   ]
  },
  {
   "cell_type": "markdown",
   "metadata": {},
   "source": [
    "# 1 Data and Preprocessing\n",
    "## 1.1 Get the entitites and corresponding classes"
   ]
  },
  {
   "cell_type": "code",
   "execution_count": 2,
   "metadata": {},
   "outputs": [],
   "source": [
    "data = \"aifb\"\n",
    "if data == \"aifb\":\n",
    "    kg = KG(location=\"../data/aifbfixed_complete.n3\", file_type=\"n3\")\n",
    "elif data == \"bgs\":\n",
    "    kg = KG(location=\"../data/bgs.nt\", file_type=\"nt\")\n",
    "elif data== \"mutag\":\n",
    "    kg = KG(location=\"../data/mutag.xml\", file_type=\"xml\")\n",
    "\n",
    "g = rdflib.Graph()\n",
    "if data == \"aifb\":\n",
    "    g.parse(\"../data/aifbfixed_complete.n3\", format=\"n3\")\n",
    "elif data == \"bgs\":\n",
    "    g.parse(\"../data/bgs.nt\", format=\"nt\")\n",
    "elif data == \"mutag\":\n",
    "    g.parse(\"../data/mutag.xml\", format=\"xml\")\n",
    "\n",
    "q = g.query(\"\"\"SELECT ?entity ?type\n",
    "            WHERE {\n",
    "              ?entity rdf:type ?type.\n",
    "            }\"\"\")\n",
    "entities = []\n",
    "classes = []\n",
    "for row in q:\n",
    "    entities.append(row[0])\n",
    "    classes.append(row[1])"
   ]
  },
  {
   "cell_type": "code",
   "execution_count": 3,
   "metadata": {},
   "outputs": [
    {
     "data": {
      "text/plain": [
       "{rdflib.term.URIRef('http://swrc.ontoware.org/ontology#Article'),\n",
       " rdflib.term.URIRef('http://swrc.ontoware.org/ontology#AssistantProfessor'),\n",
       " rdflib.term.URIRef('http://swrc.ontoware.org/ontology#Book'),\n",
       " rdflib.term.URIRef('http://swrc.ontoware.org/ontology#FullProfessor'),\n",
       " rdflib.term.URIRef('http://swrc.ontoware.org/ontology#Graduate'),\n",
       " rdflib.term.URIRef('http://swrc.ontoware.org/ontology#InCollection'),\n",
       " rdflib.term.URIRef('http://swrc.ontoware.org/ontology#InProceedings'),\n",
       " rdflib.term.URIRef('http://swrc.ontoware.org/ontology#Lecturer'),\n",
       " rdflib.term.URIRef('http://swrc.ontoware.org/ontology#Manager'),\n",
       " rdflib.term.URIRef('http://swrc.ontoware.org/ontology#Misc'),\n",
       " rdflib.term.URIRef('http://swrc.ontoware.org/ontology#Organization'),\n",
       " rdflib.term.URIRef('http://swrc.ontoware.org/ontology#Person'),\n",
       " rdflib.term.URIRef('http://swrc.ontoware.org/ontology#PhDStudent'),\n",
       " rdflib.term.URIRef('http://swrc.ontoware.org/ontology#Proceedings'),\n",
       " rdflib.term.URIRef('http://swrc.ontoware.org/ontology#Project'),\n",
       " rdflib.term.URIRef('http://swrc.ontoware.org/ontology#Publication'),\n",
       " rdflib.term.URIRef('http://swrc.ontoware.org/ontology#ResearchGroup'),\n",
       " rdflib.term.URIRef('http://swrc.ontoware.org/ontology#ResearchTopic'),\n",
       " rdflib.term.URIRef('http://swrc.ontoware.org/ontology#TechnicalReport'),\n",
       " rdflib.term.URIRef('http://swrc.ontoware.org/ontology#TechnicalStaff'),\n",
       " rdflib.term.URIRef('http://swrc.ontoware.org/ontology#Undergraduate'),\n",
       " rdflib.term.URIRef('http://www.w3.org/2002/07/owl#Class'),\n",
       " rdflib.term.URIRef('http://www.w3.org/2002/07/owl#Datatype'),\n",
       " rdflib.term.URIRef('http://www.w3.org/2002/07/owl#DatatypeProperty'),\n",
       " rdflib.term.URIRef('http://www.w3.org/2002/07/owl#ObjectProperty'),\n",
       " rdflib.term.URIRef('http://www.w3.org/2002/07/owl#Ontology'),\n",
       " rdflib.term.URIRef('http://www.w3.org/2002/07/owl#Restriction')}"
      ]
     },
     "execution_count": 3,
     "metadata": {},
     "output_type": "execute_result"
    }
   ],
   "source": [
    "set(classes)"
   ]
  },
  {
   "cell_type": "markdown",
   "metadata": {},
   "source": [
    "## 1.2. Filtering"
   ]
  },
  {
   "cell_type": "markdown",
   "metadata": {},
   "source": [
    "Some entities do not have a type. We preprocess data such that we only include entities with a type:\n",
    "(Note, we will use the term *type* and *class* interchangably)"
   ]
  },
  {
   "cell_type": "code",
   "execution_count": 3,
   "metadata": {},
   "outputs": [],
   "source": [
    "filtered_index = []\n",
    "index = 0\n",
    "for e in entities:\n",
    "    if e in kg._entities:\n",
    "        filtered_index.append(index)\n",
    "    index += 1\n",
    "    \n",
    "entities_filt = [entities[i] for i in filtered_index]\n",
    "classes_filt = [classes[i] for i in filtered_index]\n",
    "\n",
    "entities = entities_filt"
   ]
  },
  {
   "cell_type": "markdown",
   "metadata": {},
   "source": [
    "Each class is a string like \"http://swrc.ontoware.org/ontology#TechnicalStaff\". We do some preprocessing to obtain a more natural presentation (by deleting the leading characters)."
   ]
  },
  {
   "cell_type": "code",
   "execution_count": 4,
   "metadata": {},
   "outputs": [],
   "source": [
    "def get_classes(data):\n",
    "    classes = []\n",
    "    for class_type in classes_filt:\n",
    "        if data == \"mutag\":\n",
    "            class_type = class_type.lstrip(\"http://dl-learner.org/carcinogenesis#\")\n",
    "            class_type = class_type.lstrip(\"www.w3.org/2002/07/owl#\")\n",
    "        elif data == \"aifb\":\n",
    "            class_type = class_type.lstrip(\"http://swrc.ontoware.org/ontology#\")\n",
    "            class_type = class_type.lstrip(\"3.org/2002/07/owl#\")\n",
    "        classes.append(class_type)\n",
    "    return np.array(classes)"
   ]
  },
  {
   "cell_type": "markdown",
   "metadata": {},
   "source": [
    "Finally, each entity is one of the following set of classes:"
   ]
  },
  {
   "cell_type": "code",
   "execution_count": 10,
   "metadata": {},
   "outputs": [
    {
     "name": "stdout",
     "output_type": "stream",
     "text": [
      "Counter({'Publication': 1222, 'Person': 1045, 'InProceedings': 687, 'TechnicalReport': 169, 'Article': 161, 'ResearchTopic': 146, 'InCollection': 87, 'Project': 78, 'PhDStudent': 65, 'Class': 55, 'Misc': 51, 'Proceedings': 49, 'ObjectProperty': 42, 'DatatypeProperty': 31, 'Organization': 28, 'Book': 23, 'Lecturer': 6, 'Undergraduate': 6, 'FullProfessor': 5, 'ResearchGroup': 5, 'AssistantProfessor': 3, 'TechnicalStaff': 3, 'Graduate': 2, 'Ontology': 1, 'Datatype': 1, 'Manager': 1})\n"
     ]
    }
   ],
   "source": [
    "print(Counter(get_classes(data)))"
   ]
  },
  {
   "cell_type": "markdown",
   "metadata": {},
   "source": [
    "The empirical distribution of the classes is far from being equally distribution. In the AIFB data set, the KG almost entirely consists of entities of the type *Publication*, *Person*, or *InProceedings*. \n",
    "To learn a proper prediction model, we decide to include only these classes."
   ]
  },
  {
   "cell_type": "code",
   "execution_count": 6,
   "metadata": {},
   "outputs": [],
   "source": [
    "def select_classes(data):\n",
    "    if data == \"aifb\":\n",
    "        return([\"Publication\", \"Person\", \"InProceedings\"])\n",
    "    elif data == \"mutag\":\n",
    "        return([\"Hydrogen-3\", \"Bond-1\", \"Bond-7\", \"Carbon-22\", \"Carbon-10\"])\n",
    "    \n",
    "def select_data(X, data):\n",
    "    '''\n",
    "    Returns a supervised data set with embeddings X and labels y for data which is in accordance \n",
    "    to the selected classes. The output can be used to train a prediction model. \n",
    "    \n",
    "    Args:\n",
    "        X: The embedding of size N x D\n",
    "        data: aifb or mutag\n",
    "    \n",
    "    Returns:\n",
    "        X: Rows of the embedding that have a label in the set of selected classes\n",
    "        y: Label, which is in the set of selected classes\n",
    "    '''\n",
    "    classes = get_classes(data)\n",
    "    selected_classes = select_classes(data) # get the most prominent classes\n",
    "    indexes = []\n",
    "    for j in range(len(classes)):\n",
    "        if classes[j] in selected_classes:\n",
    "            indexes.append(j)\n",
    "    X = X[indexes]\n",
    "    y = classes[indexes]\n",
    "    return(X, y)"
   ]
  },
  {
   "cell_type": "markdown",
   "metadata": {},
   "source": [
    "## 1.3. Import the embeddings"
   ]
  },
  {
   "cell_type": "code",
   "execution_count": 7,
   "metadata": {},
   "outputs": [],
   "source": [
    "nlp_model = \"skip-gram\" # skip-gram or cbow\n",
    "num_embeddings = 10\n",
    "embeddings = []\n",
    "\n",
    "dim_red = \"tsne2d\" # \"pca2d\", \"pca3d\", \"tsne2d\", or \"tsne3d\"\n",
    "\n",
    "# read embeddings:\n",
    "for iter in range(num_embeddings):\n",
    "    embeddings.append(np.load(\"embeddings/\" + data + \"/\" + nlp_model + \"/\" + dim_red + \"/embedding\" + str(iter) + \".npy\"))"
   ]
  },
  {
   "cell_type": "markdown",
   "metadata": {},
   "source": [
    "# 2 Analyzing the Prediction Performance using the Embeddings\n",
    "## 2.1 k-NN classifier performance of one embedding\n",
    "Before comparing if all embeddings yield to the same predictions, we analyze the prediction performance of one embedding used for predicting the entity class."
   ]
  },
  {
   "cell_type": "code",
   "execution_count": 15,
   "metadata": {},
   "outputs": [],
   "source": [
    "X, y = select_data(embeddings[0], data)"
   ]
  },
  {
   "cell_type": "markdown",
   "metadata": {},
   "source": [
    "### 2.1.1 A first glance at the data"
   ]
  },
  {
   "cell_type": "code",
   "execution_count": 16,
   "metadata": {},
   "outputs": [
    {
     "name": "stdout",
     "output_type": "stream",
     "text": [
      "Publication\n",
      "1222\n",
      "InProceedings\n",
      "687\n",
      "Person\n",
      "1045\n"
     ]
    }
   ],
   "source": [
    "for class_type in set(y):\n",
    "    print(class_type)\n",
    "    print(len(X[np.where(y==class_type)]))"
   ]
  },
  {
   "cell_type": "code",
   "execution_count": 17,
   "metadata": {},
   "outputs": [],
   "source": [
    "X_cp = X.copy()\n",
    "scaler = StandardScaler()\n",
    "X_cp_scaled = scaler.fit_transform(X_cp)"
   ]
  },
  {
   "cell_type": "markdown",
   "metadata": {},
   "source": [
    "The 2D-Representation (using t-SNE dimension reduction) of the embedding:"
   ]
  },
  {
   "cell_type": "code",
   "execution_count": 18,
   "metadata": {},
   "outputs": [
    {
     "data": {
      "image/png": "[encoded data removed]",
      "text/plain": [
       "<Figure size 432x288 with 1 Axes>"
      ]
     },
     "metadata": {
      "needs_background": "light"
     },
     "output_type": "display_data"
    }
   ],
   "source": [
    "fig, ax = plt.subplots()\n",
    "for class_type in set(y):\n",
    "    index = np.where(y==class_type)\n",
    "    ax.scatter(X_cp_scaled[index, 0], X_cp_scaled[index,1], label=class_type,\n",
    "               alpha=0.2, edgecolors='none')\n",
    "ax.legend()\n",
    "ax.set_ylim([-3, 3])\n",
    "ax.set_xlim([-3,3])\n",
    "plt.show()"
   ]
  },
  {
   "cell_type": "markdown",
   "metadata": {},
   "source": [
    "As we can see, the classes don't look well-seperable. K-NN is probably not working well. One could hypothesize \n",
    "1. either that the embeddings using RDF2Vec are too bad structured, \n",
    "2. or that we loose too much structure by appyling a 2D-Dimension reduction.\n",
    "\n",
    "I think that the second hypothesis is more likely..."
   ]
  },
  {
   "cell_type": "markdown",
   "metadata": {},
   "source": [
    "### 2.1.2 Train the model"
   ]
  },
  {
   "cell_type": "code",
   "execution_count": 19,
   "metadata": {},
   "outputs": [],
   "source": [
    "X_train, X_test, y_train, y_test = train_test_split(X, y, random_state=42)"
   ]
  },
  {
   "cell_type": "code",
   "execution_count": 20,
   "metadata": {},
   "outputs": [
    {
     "data": {
      "text/plain": [
       "KNeighborsClassifier(n_neighbors=20)"
      ]
     },
     "execution_count": 20,
     "metadata": {},
     "output_type": "execute_result"
    }
   ],
   "source": [
    "scaler = StandardScaler()\n",
    "X_train = scaler.fit_transform(X_train)\n",
    "\n",
    "n_neighbors = 20\n",
    "clf = neighbors.KNeighborsClassifier(n_neighbors)\n",
    "clf.fit(X_train, y_train)"
   ]
  },
  {
   "cell_type": "code",
   "execution_count": 21,
   "metadata": {},
   "outputs": [],
   "source": [
    "scaler = StandardScaler()\n",
    "X_test = scaler.fit_transform(X_test)\n",
    "y_pred = clf.predict(X_test)"
   ]
  },
  {
   "cell_type": "code",
   "execution_count": 23,
   "metadata": {},
   "outputs": [
    {
     "data": {
      "text/plain": [
       "'The accuracy is: 0.38 %'"
      ]
     },
     "execution_count": 23,
     "metadata": {},
     "output_type": "execute_result"
    }
   ],
   "source": [
    "f'The accuracy is: {np.round(sum(y_pred == y_test)/len(y_pred), 2)} %'"
   ]
  },
  {
   "cell_type": "markdown",
   "metadata": {},
   "source": [
    "Not surprisingly, (see the scatter plot above) the accuracy is pretty bad and slightly above randomly guessing, which would yield a accuracy of $1/3$. "
   ]
  },
  {
   "cell_type": "markdown",
   "metadata": {},
   "source": [
    "## 2.2 Similar Preditions?\n",
    "We saw that the prediction performance isn't good. But are these prediciton at least similar across different embeddings? \n",
    "\n",
    "To be precise, we train 10 different k-NN classifiers each based on of the 10 embeddings, and compare if they lead to the same prediction. If so, this could be interpreted as some kind of robustness."
   ]
  },
  {
   "cell_type": "code",
   "execution_count": 24,
   "metadata": {},
   "outputs": [],
   "source": [
    "def compare_pred(data, dim_red, nlp_model):\n",
    "    num_embeddings = 10\n",
    "    embeddings = []\n",
    "\n",
    "    # read embeddings:\n",
    "    if dim_red==\"\":\n",
    "        for iter in range(num_embeddings):\n",
    "            embeddings.append(np.load(\"embeddings/\" + data + \"/\" + nlp_model + \"/embedding\" + str(iter) + \".npy\"))\n",
    "    else:\n",
    "        for iter in range(num_embeddings):\n",
    "            embeddings.append(np.load(\"embeddings/\" + data + \"/\" + nlp_model + \"/\" + dim_red + \"/embedding\" + str(iter) + \".npy\"))\n",
    "            \n",
    "    # k-NN for each embedding    \n",
    "    for j in range(num_embeddings):   \n",
    "        X, y = select_data(embeddings[j], data)\n",
    "\n",
    "        X_train, X_test, y_train, y_test = train_test_split(X, y, random_state=42, stratify=y)\n",
    "        scaler = StandardScaler()\n",
    "        X_train = scaler.fit_transform(X_train)\n",
    "        if j==0:\n",
    "            df_y = pd.DataFrame(data=y_test, columns=[\"truth\"])\n",
    "        \n",
    "        \n",
    "        n_neighbors = 20\n",
    "        clf = neighbors.KNeighborsClassifier(n_neighbors)\n",
    "        clf.fit(X_train, y_train)\n",
    "        \n",
    "        scaler = StandardScaler()\n",
    "        X_train = scaler.fit_transform(X_train)\n",
    "        \n",
    "        y_pred = clf.predict(X_test)\n",
    "        # concatenate the columns\n",
    "        df_y = pd.concat([df_y, pd.DataFrame(data=y_pred, columns=[\"Embedding\" + str(j)])], axis=1)\n",
    "\n",
    "    # calculate the pairwise accuracy\n",
    "    pw_accuracy = np.zeros((10,10))\n",
    "    for j in range(num_embeddings):\n",
    "        for i in range(num_embeddings):\n",
    "            acc = sum( df_y[\"Embedding\" + str(j)] == df_y[\"Embedding\" + str(i)]) / len(df_y)  \n",
    "            pw_accuracy[i, j] = np.round(acc, 2)\n",
    "    pw_results = pw_accuracy[np.triu_indices(num_embeddings, k=1)]\n",
    "    print(f'Results for the {data} dataset using RDF2Vec via {nlp_model} and the dimension reduction technique {dim_red}.')\n",
    "    print(f'The average pairwise accuracy is {np.round(np.mean(pw_results), 2)} with a variance between pairwise accuracies of {np.round(np.var(pw_results), 2)}.')       "
   ]
  },
  {
   "cell_type": "markdown",
   "metadata": {},
   "source": [
    "### 2.2.1 CBOW:"
   ]
  },
  {
   "cell_type": "code",
   "execution_count": 25,
   "metadata": {},
   "outputs": [
    {
     "name": "stdout",
     "output_type": "stream",
     "text": [
      "Results for the aifb dataset using RDF2Vec via cbow and the dimension reduction technique pca2d.\n",
      "The average pairwise accuracy is 0.48 with a variance between pairwise accuracies of 0.0.\n"
     ]
    }
   ],
   "source": [
    "compare_pred(data, \"pca2d\", \"cbow\")"
   ]
  },
  {
   "cell_type": "code",
   "execution_count": 26,
   "metadata": {},
   "outputs": [
    {
     "name": "stdout",
     "output_type": "stream",
     "text": [
      "Results for the aifb dataset using RDF2Vec via cbow and the dimension reduction technique pca3d.\n",
      "The average pairwise accuracy is 0.51 with a variance between pairwise accuracies of 0.0.\n"
     ]
    }
   ],
   "source": [
    "compare_pred(data, \"pca3d\", \"cbow\")"
   ]
  },
  {
   "cell_type": "code",
   "execution_count": 27,
   "metadata": {},
   "outputs": [
    {
     "name": "stdout",
     "output_type": "stream",
     "text": [
      "Results for the aifb dataset using RDF2Vec via cbow and the dimension reduction technique tsne2d.\n",
      "The average pairwise accuracy is 0.53 with a variance between pairwise accuracies of 0.01.\n"
     ]
    }
   ],
   "source": [
    "compare_pred(data, \"tsne2d\", \"cbow\")"
   ]
  },
  {
   "cell_type": "code",
   "execution_count": 28,
   "metadata": {},
   "outputs": [
    {
     "name": "stdout",
     "output_type": "stream",
     "text": [
      "Results for the aifb dataset using RDF2Vec via cbow and the dimension reduction technique tsne3d.\n",
      "The average pairwise accuracy is 0.5 with a variance between pairwise accuracies of 0.01.\n"
     ]
    }
   ],
   "source": [
    "compare_pred(data, \"tsne3d\", \"cbow\")"
   ]
  },
  {
   "cell_type": "code",
   "execution_count": 29,
   "metadata": {},
   "outputs": [
    {
     "name": "stdout",
     "output_type": "stream",
     "text": [
      "Results for the aifb dataset using RDF2Vec via cbow and the dimension reduction technique .\n",
      "The average pairwise accuracy is 0.46 with a variance between pairwise accuracies of 0.02.\n"
     ]
    }
   ],
   "source": [
    "# without dimension reduction: \n",
    "compare_pred(data, \"\", \"cbow\")"
   ]
  },
  {
   "cell_type": "markdown",
   "metadata": {},
   "source": [
    "The last chunk investigates the performance in the case of no dimension reduction. Note, the embeddings are of dimensionality $D=100$."
   ]
  },
  {
   "cell_type": "markdown",
   "metadata": {},
   "source": [
    "### 2.2.2 skip-gram:"
   ]
  },
  {
   "cell_type": "code",
   "execution_count": 31,
   "metadata": {},
   "outputs": [
    {
     "name": "stdout",
     "output_type": "stream",
     "text": [
      "Results for the aifb dataset using RDF2Vec via skip-gram and the dimension reduction technique pca2d.\n",
      "The average pairwise accuracy is 0.5 with a variance between pairwise accuracies of 0.0.\n"
     ]
    }
   ],
   "source": [
    "compare_pred(data, \"pca2d\", \"skip-gram\")"
   ]
  },
  {
   "cell_type": "code",
   "execution_count": 32,
   "metadata": {},
   "outputs": [
    {
     "name": "stdout",
     "output_type": "stream",
     "text": [
      "Results for the aifb dataset using RDF2Vec via skip-gram and the dimension reduction technique pca3d.\n",
      "The average pairwise accuracy is 0.53 with a variance between pairwise accuracies of 0.01.\n"
     ]
    }
   ],
   "source": [
    "compare_pred(data, \"pca3d\", \"skip-gram\")"
   ]
  },
  {
   "cell_type": "code",
   "execution_count": 33,
   "metadata": {},
   "outputs": [
    {
     "name": "stdout",
     "output_type": "stream",
     "text": [
      "Results for the aifb dataset using RDF2Vec via skip-gram and the dimension reduction technique tsne2d.\n",
      "The average pairwise accuracy is 0.53 with a variance between pairwise accuracies of 0.01.\n"
     ]
    }
   ],
   "source": [
    "compare_pred(data, \"tsne2d\", \"skip-gram\")"
   ]
  },
  {
   "cell_type": "code",
   "execution_count": 34,
   "metadata": {},
   "outputs": [
    {
     "name": "stdout",
     "output_type": "stream",
     "text": [
      "Results for the aifb dataset using RDF2Vec via skip-gram and the dimension reduction technique tsne3d.\n",
      "The average pairwise accuracy is 0.56 with a variance between pairwise accuracies of 0.01.\n"
     ]
    }
   ],
   "source": [
    "compare_pred(data, \"tsne3d\", \"skip-gram\")"
   ]
  },
  {
   "cell_type": "markdown",
   "metadata": {},
   "source": [
    "### 2.2.3 Summarize the results\n",
    "We want to summarize all results and display them in a boxplot:"
   ]
  },
  {
   "cell_type": "code",
   "execution_count": 8,
   "metadata": {},
   "outputs": [],
   "source": [
    "def summary(data):\n",
    "    num_embeddings = 10\n",
    "    dim_red_methods = [\"pca2d\", \"pca3d\", \"tsne2d\", \"tsne3d\"]\n",
    "    nlp_models = [\"sg\", \"cbow\"]\n",
    "\n",
    "    counter = 0\n",
    "    results = np.zeros(2)\n",
    "    for nlp_model in (\"cbow\", \"skip-gram\"):\n",
    "        for dim_red in (\"pca2d\", \"pca3d\", \"tsne2d\", \"tsne3d\"):\n",
    "            embeddings = []\n",
    "            # read embeddings:\n",
    "            if dim_red==\"\":\n",
    "                for iter in range(num_embeddings):\n",
    "                    embeddings.append(np.load(\"embeddings/\" + data + \"/\" + nlp_model + \"/embedding\" + str(iter) + \".npy\"))\n",
    "            else:\n",
    "                for iter in range(num_embeddings):\n",
    "                    embeddings.append(np.load(\"embeddings/\" + data + \"/\" + nlp_model + \"/\" + dim_red + \"/embedding\" + str(iter) + \".npy\"))\n",
    "\n",
    "            # k-NN for each embedding    \n",
    "            for j in range(num_embeddings):   \n",
    "                X, y = select_data(embeddings[j], data)\n",
    "\n",
    "                X_train, X_test, y_train, y_test = train_test_split(X, y, random_state=42, stratify=y)\n",
    "                scaler = StandardScaler()\n",
    "                X_train = scaler.fit_transform(X_train)\n",
    "                if j==0:\n",
    "                    df_y = pd.DataFrame(data=y_test, columns=[\"truth\"])\n",
    "\n",
    "\n",
    "                n_neighbors = 20\n",
    "                clf = neighbors.KNeighborsClassifier(n_neighbors)\n",
    "                clf.fit(X_train, y_train)\n",
    "\n",
    "                scaler = StandardScaler()\n",
    "                X_train = scaler.fit_transform(X_train)\n",
    "\n",
    "                y_pred = clf.predict(X_test)\n",
    "                # concatenate the columns\n",
    "                df_y = pd.concat([df_y, pd.DataFrame(data=y_pred, columns=[\"Embedding\" + str(j)])], axis=1)\n",
    "\n",
    "            # calculate the pairwise accuracy\n",
    "            accuracy = np.zeros(len(y_test))\n",
    "            y_same = np.zeros(len(y_test))\n",
    "            for i in range(num_embeddings - 1):\n",
    "                for j in range(i + 1, num_embeddings):\n",
    "                    y_same += (df_y[\"Embedding\" + str(i)] == df_y[\"Embedding\" + str(j)])\n",
    "                    \n",
    "            if counter==0:\n",
    "                results = pd.DataFrame({\"accuracy\":y_same/(num_embeddings * (num_embeddings - 1)/2), \"method\":np.repeat(nlp_model, len(y_same)), \"dim_red\": np.repeat(dim_red, len(y_same))}, columns=(\"accuracy\", \"method\", \"dim_red\") )\n",
    "            else:\n",
    "                results = results.append(pd.DataFrame({\"accuracy\":y_same/(num_embeddings * (num_embeddings - 1)/2), \"method\":np.repeat(nlp_model, len(y_same)), \"dim_red\": np.repeat(dim_red, len(y_same))}, columns=(\"accuracy\", \"method\", \"dim_red\") ))\n",
    "            counter += 1\n",
    "            \n",
    "    return(results)"
   ]
  },
  {
   "cell_type": "code",
   "execution_count": 9,
   "metadata": {},
   "outputs": [
    {
     "data": {
      "image/png": "[encoded data removed]",
      "text/plain": [
       "<Figure size 432x288 with 1 Axes>"
      ]
     },
     "metadata": {
      "needs_background": "light"
     },
     "output_type": "display_data"
    }
   ],
   "source": [
    "results = summary(data)\n",
    "\n",
    "fig, ax = plt.subplots()\n",
    "sns.set_style(\"white\")\n",
    "color = sns.color_palette(\"tab10\")\n",
    "ax = sns.boxplot(x=\"dim_red\", y=\"accuracy\", hue=\"method\", data=results, palette=\"tab10\")\n",
    "#ax.set_title(\"Pairwise similarities: \" + data, fonzsize=30)\n",
    "ax.set_xlabel(\"Dimension Reduction\", fontsize=20, weight=\"bold\")\n",
    "ax.set_ylabel(\"% same Prediction\", fontsize=20, weight=\"bold\")\n",
    "fig.suptitle(\"Similar Predictions: \" + data, fontsize=30, weight=\"bold\")\n",
    "plt.legend(loc='upper left')\n",
    "fig.savefig(\"embeddings/\" + data + \"/boxplot_prediction.pdf\")\n",
    "plt.show()"
   ]
  }
 ],
 "metadata": {
  "kernelspec": {
   "display_name": "Python 3",
   "language": "python",
   "name": "python3"
  },
  "language_info": {
   "codemirror_mode": {
    "name": "ipython",
    "version": 3
   },
   "file_extension": ".py",
   "mimetype": "text/x-python",
   "name": "python",
   "nbconvert_exporter": "python",
   "pygments_lexer": "ipython3",
   "version": "3.8.5"
  }
 },
 "nbformat": 4,
 "nbformat_minor": 4
}
